{
 "cells": [
  {
   "cell_type": "markdown",
   "metadata": {},
   "source": [
    "# Image Rating Experiment\n",
    "\n",
    "This project is more like an experiment to evaluate the performance of the machine learning algorithm for detecting the popularity of an image.\n",
    "Several suggestions will be made as we explain the problem and its challenges.\n",
    "There are --- parts we discuss below\n",
    "1.Regression or Classification problem.\n",
    "2.Training set\n"
   ]
  },
  {
   "cell_type": "markdown",
   "metadata": {},
   "source": [
    "# Regression or Classification?\n",
    "Before explaining the solution it is worthwhile to focus on the basis of the solution\n",
    "The problem seems to be a regression problem which map every image to a number(rate)\n",
    "However, it is not like what it seems. The purpose of rating the images is to determine whether\n",
    "an unrated image is popular or not. Hence defining the categories instead of exact numbers will help the\n",
    "learning procedure to be more efficient and let the algorithm to focus on more important data\n",
    "In this work I devided images in 5 caregoris: Excellent(80-100), Good(60-80), Regular(40-60)\n",
    "Low(20-40), Very Low(0-20). However after the experience I came to a conclusion that 2 (Populr and not popular)\n",
    "or 3 categories might be better(more effective learning procedure)."
   ]
  },
  {
   "cell_type": "markdown",
   "metadata": {},
   "source": [
    "# Training Set\n",
    "\n",
    "As suggested in the description of problem I used the higthest rating to devide images in different groups\n",
    "Here is the statics of the training set I used in this project:"
   ]
  },
  {
   "cell_type": "code",
   "execution_count": 4,
   "metadata": {
    "collapsed": false
   },
   "outputs": [
    {
     "ename": "TypeError",
     "evalue": "unhashable type: 'list'",
     "output_type": "error",
     "traceback": [
      "\u001b[1;31m---------------------------------------------------------------------------\u001b[0m",
      "\u001b[1;31mTypeError\u001b[0m                                 Traceback (most recent call last)",
      "\u001b[1;32m<ipython-input-4-073e6971935e>\u001b[0m in \u001b[0;36m<module>\u001b[1;34m()\u001b[0m\n\u001b[0;32m     17\u001b[0m \u001b[0mtest_list\u001b[0m \u001b[1;33m=\u001b[0m \u001b[0mget_class_stat\u001b[0m\u001b[1;33m(\u001b[0m\u001b[0mtest_list\u001b[0m\u001b[1;33m)\u001b[0m\u001b[1;33m\u001b[0m\u001b[0m\n\u001b[0;32m     18\u001b[0m \u001b[0mtrain_stats\u001b[0m\u001b[1;33m[\u001b[0m\u001b[1;34m\"class_name\"\u001b[0m\u001b[1;33m]\u001b[0m\u001b[1;33m\u001b[0m\u001b[0m\n\u001b[1;32m---> 19\u001b[1;33m \u001b[0mplt\u001b[0m\u001b[1;33m.\u001b[0m\u001b[0mbar\u001b[0m\u001b[1;33m(\u001b[0m\u001b[1;33m[\u001b[0m\u001b[0mn\u001b[0m \u001b[1;32mfor\u001b[0m \u001b[0mn\u001b[0m \u001b[1;32min\u001b[0m \u001b[0mlabels\u001b[0m\u001b[1;33m[\u001b[0m\u001b[0mtrain_stats\u001b[0m\u001b[1;33m[\u001b[0m\u001b[1;34m\"class_name\"\u001b[0m\u001b[1;33m]\u001b[0m\u001b[1;33m]\u001b[0m\u001b[1;33m]\u001b[0m\u001b[1;33m,\u001b[0m\u001b[1;33m[\u001b[0m\u001b[0mn\u001b[0m \u001b[1;32mfor\u001b[0m \u001b[0mn\u001b[0m \u001b[1;32min\u001b[0m \u001b[0mtrain_stats\u001b[0m\u001b[1;33m[\u001b[0m\u001b[1;34m\"num_data\"\u001b[0m\u001b[1;33m]\u001b[0m\u001b[1;33m]\u001b[0m\u001b[1;33m)\u001b[0m\u001b[1;33m\u001b[0m\u001b[0m\n\u001b[0m\u001b[0;32m     20\u001b[0m \u001b[0mplt\u001b[0m\u001b[1;33m.\u001b[0m\u001b[0mshow\u001b[0m\u001b[1;33m(\u001b[0m\u001b[1;33m)\u001b[0m\u001b[1;33m\u001b[0m\u001b[0m\n",
      "\u001b[1;31mTypeError\u001b[0m: unhashable type: 'list'"
     ]
    }
   ],
   "source": [
    "# Run some setup code for this notebook.\n",
    "\n",
    "import numpy as np\n",
    "import matplotlib.pyplot as plt\n",
    "\n",
    "%matplotlib inline\n",
    "from utils import read_txt_list, get_class_stat\n",
    "import json\n",
    "label_path = \"/home/elmira/Dropbox/image_rating/working_directory/model/labels.json\"\n",
    "train_path = \"/home/elmira/Dropbox/500px/500px/training.txt\"\n",
    "test_path = \"/home/elmira/Dropbox/500px/500px/testing.txt\"\n",
    "with open(label_path) as label_file:\n",
    "  labels = json.load(label_file)\n",
    "train_list = read_txt_list(train_path)\n",
    "test_list = read_txt_list(test_path)\n",
    "train_stats = get_class_stat(train_list)\n",
    "test_list = get_class_stat(test_list)\n",
    "plt.bar([labels[n] for n in train_stats[\"class_name\"]],[n for n in train_stats[\"num_data\"]])\n",
    "plt.show()\n"
   ]
  },
  {
   "cell_type": "code",
   "execution_count": null,
   "metadata": {
    "collapsed": true
   },
   "outputs": [],
   "source": []
  }
 ],
 "metadata": {
  "kernelspec": {
   "display_name": "Python 2",
   "language": "python",
   "name": "python2"
  },
  "language_info": {
   "codemirror_mode": {
    "name": "ipython",
    "version": 2
   },
   "file_extension": ".py",
   "mimetype": "text/x-python",
   "name": "python",
   "nbconvert_exporter": "python",
   "pygments_lexer": "ipython2",
   "version": "2.7.6"
  }
 },
 "nbformat": 4,
 "nbformat_minor": 0
}
