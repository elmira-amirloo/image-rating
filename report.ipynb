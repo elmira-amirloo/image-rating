{
 "cells": [
  {
   "cell_type": "markdown",
   "metadata": {},
   "source": [
    "# Image Rating Experiment\n",
    "\n",
    "This project is more like an experiment to evaluate the performance of the machine learning algorithm for detecting the popularity of an image.\n",
    "Several suggestions will be made as we explain the problem and its challenges.\n",
    "There are --- parts we discuss below\n",
    "1.Regression or Classification problem.\n",
    "2.Training set\n"
   ]
  },
  {
   "cell_type": "markdown",
   "metadata": {},
   "source": [
    "# Regression or Classification?\n",
    "Before explaining the solution it is worthwhile to focus on the basis of the solution\n",
    "The problem seems to be a regression problem which map every image to a number(rate)\n",
    "However, it is not like what it seems. The purpose of rating the images is to determine whether\n",
    "an unrated image is popular or not. Hence defining the categories instead of exact numbers will help the\n",
    "learning procedure to be more efficient and let the algorithm to focus on more important data\n",
    "In this work I devided images in 5 caregoris: Excellent(80-100), Good(60-80), Regular(40-60)\n",
    "Low(20-40), Very Low(0-20). However after the experience I came to a conclusion that 2 (Populr and not popular)\n",
    "or 3 categories might be better(more effective learning procedure)."
   ]
  },
  {
   "cell_type": "markdown",
   "metadata": {},
   "source": [
    "# Training Set\n",
    "\n",
    "As suggested in the description of problem I used the higthest rating to devide images in different groups\n",
    "Here is the statics of the training set I used in this project:"
   ]
  },
  {
   "cell_type": "code",
   "execution_count": 8,
   "metadata": {
    "collapsed": false
   },
   "outputs": [
    {
     "data": {
      "image/png": "[encoded data removed]",
      "text/plain": [
       "<matplotlib.figure.Figure at 0x7f076b28e110>"
      ]
     },
     "metadata": {},
     "output_type": "display_data"
    },
    {
     "data": {
      "image/png": "[encoded data removed]",
      "text/plain": [
       "<matplotlib.figure.Figure at 0x7f073d7fec10>"
      ]
     },
     "metadata": {},
     "output_type": "display_data"
    }
   ],
   "source": [
    "# Run some setup code for this notebook.\n",
    "\n",
    "import numpy as np\n",
    "import matplotlib.pyplot as plt\n",
    "\n",
    "%matplotlib inline\n",
    "from utils import read_txt_list, get_class_stat\n",
    "import json\n",
    "label_path = \"working_directory/model/labels.json\"\n",
    "train_path = \"working_directory/training.txt\"\n",
    "test_path = \"working_directory/testing.txt\"\n",
    "with open(label_path) as label_file:\n",
    "  labels = json.load(label_file)\n",
    "train_list = read_txt_list(train_path)\n",
    "test_list = read_txt_list(test_path)\n",
    "train_stats = get_class_stat(train_list)\n",
    "test_stats = get_class_stat(test_list)\n",
    "\n",
    "plt.bar([n for n in train_stats[\"class_name\"]],[n for n in train_stats[\"num_data\"]])\n",
    "plt.xticks([n for n in train_stats[\"class_name\"]], [labels[n] for n in train_stats[\"class_name\"]])\n",
    "plt.show()\n",
    "\n",
    "plt.bar([n for n in test_stats[\"class_name\"]],[n for n in test_stats[\"num_data\"]])\n",
    "plt.xticks([n for n in test_stats[\"class_name\"]], [labels[n] for n in test_stats[\"class_name\"]])\n",
    "plt.show()"
   ]
  },
  {
   "cell_type": "markdown",
   "metadata": {},
   "source": [
    "# Training Set\n",
    "\n",
    "There are several points that needs to be mentioned here:\n",
    "1. Using highest rate as the only criteria was not the best idea. I think the main idea here is having as much diversity as possible in our training set\n",
    "Possible solution includes using gallery name or even the artist names (the known artist) to be sure that we have all variety of images in our training set\n.",
    "Also there are other available information that we could take advantage of like average vote and the number of voters. By using this information we would be sure\n",
    "that our training set represent the real world scenario. The highest rate will change easily if one person over rate an image so it's not really reliable.\n",
    "2. 10,000 images is not enough for solving this problem. even if we don't have enough data we could use the available datasets to train the first layers and then\n",
    "train the other layers with our own data set. I will talk about it more in next steps."
   ]
  }

 ],
 "metadata": {
  "kernelspec": {
   "display_name": "Python 2",
   "language": "python",
   "name": "python2"
  },
  "language_info": {
   "codemirror_mode": {
    "name": "ipython",
    "version": 2
   },
   "file_extension": ".py",
   "mimetype": "text/x-python",
   "name": "python",
   "nbconvert_exporter": "python",
   "pygments_lexer": "ipython2",
   "version": "2.7.12"
  }
 },
 "nbformat": 4,
 "nbformat_minor": 0
}
