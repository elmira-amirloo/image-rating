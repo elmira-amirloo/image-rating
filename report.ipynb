{
 "cells": [
  {
   "cell_type": "markdown",
   "metadata": {},
   "source": [
    "# Image Rating Experiment\n",
    "\n",
    "This project is more like an experiment to evaluate the performance of the machine learning algorithm for detecting the popularity of an image.\n",
    "Several suggestions will be made as we explain the problem and its challenges.\n",
    "There are --- parts we discuss below\n",
    "1.Regression or Classification problem.\n",
    "2.Training set\n"
   ]
  },
  {
    "cell_type": "markdown",
    "metadata": {},
    "source": [
    "# Regression or Classification?\n",
    "Before explaining the solution it is worthwhile to focus on the basis of the solution\n",
    "The problem seems to be a regression problem which map every image to a number(rate)\n",
    "However, it is not like what it seems. The purpose of rating the images is to determine whether\n",
    "an unrated image is popular or not. Hence defining the categories instead of exact numbers will help the\n",
    "learning procedure to be more efficient and let the algorithm to focus on more important data\n",
    "In this work I devided images in 5 caregoris: Excellent(80-100), Good(60-80), Regular(40-60)\n",
    "Low(20-40), Very Low(0-20). However after the experience I came to a conclusion that 2 (Populr and not popular)\n",
    "or 3 categories might be better(more effective learning procedure)."
    ]
  },
  {
   "cell_type": "markdown",
   "metadata": {},
   "source": [
    "# Training Set\n",
    "\n",
    "As suggested in the description of problem I used the higthest rating to devide images in different groups\n",
    "Here is the statics of the training set I used in this project:"
   ]
 },

  {
   "cell_type": "code",
   "execution_count": 1,
   "metadata": {
    "collapsed": false
   },
   "outputs": [],
   "source": [
    "# Run some setup code for this notebook.\n",
    "\n",
    "import numpy as np\n",
    "import matplotlib.pyplot as plt\n",
    "\n",
    "%matplotlib inline\n"
   ]
  }
 ],
 "metadata": {
  "kernelspec": {
   "display_name": "Python 2",
   "language": "python",
   "name": "python2"
  },
  "language_info": {
   "codemirror_mode": {
    "name": "ipython",
    "version": 2
   },
   "file_extension": ".py",
   "mimetype": "text/x-python",
   "name": "python",
   "nbconvert_exporter": "python",
   "pygments_lexer": "ipython2",
   "version": "2.7.6"
  }
 },
 "nbformat": 4,
 "nbformat_minor": 0
}
